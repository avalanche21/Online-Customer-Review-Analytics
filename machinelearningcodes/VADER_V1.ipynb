{
 "cells": [
  {
   "cell_type": "code",
   "execution_count": 1,
   "metadata": {},
   "outputs": [
    {
     "name": "stdout",
     "output_type": "stream",
     "text": [
      "{'neg': 0.0, 'neu': 0.463, 'pos': 0.537, 'compound': 0.6996}\n"
     ]
    }
   ],
   "source": [
    "from vaderSentiment.vaderSentiment import SentimentIntensityAnalyzer\n",
    "\n",
    "analyzer = SentimentIntensityAnalyzer()\n",
    "vs = analyzer.polarity_scores(\"VADER Sentiment looks interesting, I have high hopes!\")\n",
    "print(vs)"
   ]
  },
  {
   "cell_type": "code",
   "execution_count": 2,
   "metadata": {},
   "outputs": [],
   "source": [
    "import pandas as pd\n",
    "import numpy as np"
   ]
  },
  {
   "cell_type": "code",
   "execution_count": 3,
   "metadata": {},
   "outputs": [],
   "source": [
    "df = pd.read_csv('Amazon_raw_predicted_by_VADER.csv')"
   ]
  },
  {
   "cell_type": "code",
   "execution_count": 4,
   "metadata": {},
   "outputs": [],
   "source": [
    "del df['Unnamed: 0']"
   ]
  },
  {
   "cell_type": "code",
   "execution_count": 5,
   "metadata": {
    "scrolled": true
   },
   "outputs": [
    {
     "data": {
      "text/html": [
       "<div>\n",
       "<style scoped>\n",
       "    .dataframe tbody tr th:only-of-type {\n",
       "        vertical-align: middle;\n",
       "    }\n",
       "\n",
       "    .dataframe tbody tr th {\n",
       "        vertical-align: top;\n",
       "    }\n",
       "\n",
       "    .dataframe thead th {\n",
       "        text-align: right;\n",
       "    }\n",
       "</style>\n",
       "<table border=\"1\" class=\"dataframe\">\n",
       "  <thead>\n",
       "    <tr style=\"text-align: right;\">\n",
       "      <th></th>\n",
       "      <th>Text</th>\n",
       "      <th>Score</th>\n",
       "      <th>compound_score</th>\n",
       "      <th>positive_score</th>\n",
       "      <th>negative_score</th>\n",
       "    </tr>\n",
       "  </thead>\n",
       "  <tbody>\n",
       "    <tr>\n",
       "      <th>0</th>\n",
       "      <td>I have bought several of the Vitality canned d...</td>\n",
       "      <td>5</td>\n",
       "      <td>0.9441</td>\n",
       "      <td>0.305</td>\n",
       "      <td>0.000</td>\n",
       "    </tr>\n",
       "    <tr>\n",
       "      <th>1</th>\n",
       "      <td>Product arrived labeled as Jumbo Salted Peanut...</td>\n",
       "      <td>1</td>\n",
       "      <td>-0.5664</td>\n",
       "      <td>0.000</td>\n",
       "      <td>0.138</td>\n",
       "    </tr>\n",
       "    <tr>\n",
       "      <th>2</th>\n",
       "      <td>This is a confection that has been around a fe...</td>\n",
       "      <td>4</td>\n",
       "      <td>0.8265</td>\n",
       "      <td>0.155</td>\n",
       "      <td>0.091</td>\n",
       "    </tr>\n",
       "    <tr>\n",
       "      <th>3</th>\n",
       "      <td>If you are looking for the secret ingredient i...</td>\n",
       "      <td>2</td>\n",
       "      <td>0.0000</td>\n",
       "      <td>0.000</td>\n",
       "      <td>0.000</td>\n",
       "    </tr>\n",
       "    <tr>\n",
       "      <th>4</th>\n",
       "      <td>Great taffy at a great price.  There was a wid...</td>\n",
       "      <td>5</td>\n",
       "      <td>0.9468</td>\n",
       "      <td>0.448</td>\n",
       "      <td>0.000</td>\n",
       "    </tr>\n",
       "    <tr>\n",
       "      <th>5</th>\n",
       "      <td>I got a wild hair for taffy and ordered this f...</td>\n",
       "      <td>4</td>\n",
       "      <td>0.8830</td>\n",
       "      <td>0.163</td>\n",
       "      <td>0.029</td>\n",
       "    </tr>\n",
       "    <tr>\n",
       "      <th>6</th>\n",
       "      <td>This saltwater taffy had great flavors and was...</td>\n",
       "      <td>5</td>\n",
       "      <td>0.9346</td>\n",
       "      <td>0.273</td>\n",
       "      <td>0.034</td>\n",
       "    </tr>\n",
       "    <tr>\n",
       "      <th>7</th>\n",
       "      <td>This taffy is so good.  It is very soft and ch...</td>\n",
       "      <td>5</td>\n",
       "      <td>0.9487</td>\n",
       "      <td>0.480</td>\n",
       "      <td>0.000</td>\n",
       "    </tr>\n",
       "    <tr>\n",
       "      <th>8</th>\n",
       "      <td>Right now I'm mostly just sprouting this so my...</td>\n",
       "      <td>5</td>\n",
       "      <td>0.6369</td>\n",
       "      <td>0.149</td>\n",
       "      <td>0.000</td>\n",
       "    </tr>\n",
       "    <tr>\n",
       "      <th>9</th>\n",
       "      <td>This is a very healthy dog food. Good for thei...</td>\n",
       "      <td>5</td>\n",
       "      <td>0.8313</td>\n",
       "      <td>0.295</td>\n",
       "      <td>0.000</td>\n",
       "    </tr>\n",
       "    <tr>\n",
       "      <th>10</th>\n",
       "      <td>I don't know if it's the cactus or the tequila...</td>\n",
       "      <td>5</td>\n",
       "      <td>0.9746</td>\n",
       "      <td>0.137</td>\n",
       "      <td>0.017</td>\n",
       "    </tr>\n",
       "    <tr>\n",
       "      <th>11</th>\n",
       "      <td>One of my boys needed to lose some weight and ...</td>\n",
       "      <td>5</td>\n",
       "      <td>-0.7579</td>\n",
       "      <td>0.000</td>\n",
       "      <td>0.113</td>\n",
       "    </tr>\n",
       "    <tr>\n",
       "      <th>12</th>\n",
       "      <td>My cats have been happily eating Felidae Plati...</td>\n",
       "      <td>1</td>\n",
       "      <td>0.2960</td>\n",
       "      <td>0.046</td>\n",
       "      <td>0.031</td>\n",
       "    </tr>\n",
       "    <tr>\n",
       "      <th>13</th>\n",
       "      <td>good flavor! these came securely packed... the...</td>\n",
       "      <td>4</td>\n",
       "      <td>0.9466</td>\n",
       "      <td>0.645</td>\n",
       "      <td>0.000</td>\n",
       "    </tr>\n",
       "    <tr>\n",
       "      <th>14</th>\n",
       "      <td>The Strawberry Twizzlers are my guilty pleasur...</td>\n",
       "      <td>5</td>\n",
       "      <td>0.6486</td>\n",
       "      <td>0.264</td>\n",
       "      <td>0.104</td>\n",
       "    </tr>\n",
       "    <tr>\n",
       "      <th>15</th>\n",
       "      <td>My daughter loves twizzlers and this shipment ...</td>\n",
       "      <td>5</td>\n",
       "      <td>0.5719</td>\n",
       "      <td>0.139</td>\n",
       "      <td>0.000</td>\n",
       "    </tr>\n",
       "    <tr>\n",
       "      <th>16</th>\n",
       "      <td>I love eating them and they are good for watch...</td>\n",
       "      <td>2</td>\n",
       "      <td>0.7481</td>\n",
       "      <td>0.209</td>\n",
       "      <td>0.097</td>\n",
       "    </tr>\n",
       "    <tr>\n",
       "      <th>17</th>\n",
       "      <td>I am very satisfied with my Twizzler purchase....</td>\n",
       "      <td>5</td>\n",
       "      <td>0.8883</td>\n",
       "      <td>0.390</td>\n",
       "      <td>0.000</td>\n",
       "    </tr>\n",
       "    <tr>\n",
       "      <th>18</th>\n",
       "      <td>Twizzlers, Strawberry my childhood favorite ca...</td>\n",
       "      <td>5</td>\n",
       "      <td>0.8957</td>\n",
       "      <td>0.103</td>\n",
       "      <td>0.012</td>\n",
       "    </tr>\n",
       "    <tr>\n",
       "      <th>19</th>\n",
       "      <td>Candy was delivered very fast and was purchase...</td>\n",
       "      <td>5</td>\n",
       "      <td>0.6077</td>\n",
       "      <td>0.137</td>\n",
       "      <td>0.000</td>\n",
       "    </tr>\n",
       "    <tr>\n",
       "      <th>20</th>\n",
       "      <td>My husband is a Twizzlers addict.  We've bough...</td>\n",
       "      <td>5</td>\n",
       "      <td>0.6249</td>\n",
       "      <td>0.135</td>\n",
       "      <td>0.000</td>\n",
       "    </tr>\n",
       "    <tr>\n",
       "      <th>21</th>\n",
       "      <td>I bought these for my husband who is currently...</td>\n",
       "      <td>5</td>\n",
       "      <td>0.9153</td>\n",
       "      <td>0.261</td>\n",
       "      <td>0.000</td>\n",
       "    </tr>\n",
       "    <tr>\n",
       "      <th>22</th>\n",
       "      <td>I can remember buying this candy as a kid and ...</td>\n",
       "      <td>5</td>\n",
       "      <td>0.7687</td>\n",
       "      <td>0.232</td>\n",
       "      <td>0.000</td>\n",
       "    </tr>\n",
       "    <tr>\n",
       "      <th>23</th>\n",
       "      <td>I love this candy.  After weight watchers I ha...</td>\n",
       "      <td>5</td>\n",
       "      <td>0.2617</td>\n",
       "      <td>0.143</td>\n",
       "      <td>0.085</td>\n",
       "    </tr>\n",
       "    <tr>\n",
       "      <th>24</th>\n",
       "      <td>I have lived out of the US for over 7 yrs now,...</td>\n",
       "      <td>5</td>\n",
       "      <td>0.3939</td>\n",
       "      <td>0.068</td>\n",
       "      <td>0.038</td>\n",
       "    </tr>\n",
       "    <tr>\n",
       "      <th>25</th>\n",
       "      <td>Product received is as advertised.&lt;br /&gt;&lt;br /&gt;...</td>\n",
       "      <td>5</td>\n",
       "      <td>0.0000</td>\n",
       "      <td>0.000</td>\n",
       "      <td>0.000</td>\n",
       "    </tr>\n",
       "    <tr>\n",
       "      <th>26</th>\n",
       "      <td>The candy is just red , No flavor . Just  plan...</td>\n",
       "      <td>1</td>\n",
       "      <td>-0.2960</td>\n",
       "      <td>0.000</td>\n",
       "      <td>0.128</td>\n",
       "    </tr>\n",
       "    <tr>\n",
       "      <th>27</th>\n",
       "      <td>I was so glad Amazon carried these batteries. ...</td>\n",
       "      <td>4</td>\n",
       "      <td>0.5956</td>\n",
       "      <td>0.152</td>\n",
       "      <td>0.040</td>\n",
       "    </tr>\n",
       "    <tr>\n",
       "      <th>28</th>\n",
       "      <td>I got this for my Mum who is not diabetic but ...</td>\n",
       "      <td>5</td>\n",
       "      <td>0.9913</td>\n",
       "      <td>0.309</td>\n",
       "      <td>0.022</td>\n",
       "    </tr>\n",
       "    <tr>\n",
       "      <th>29</th>\n",
       "      <td>I don't know if it's the cactus or the tequila...</td>\n",
       "      <td>5</td>\n",
       "      <td>0.9746</td>\n",
       "      <td>0.137</td>\n",
       "      <td>0.017</td>\n",
       "    </tr>\n",
       "    <tr>\n",
       "      <th>...</th>\n",
       "      <td>...</td>\n",
       "      <td>...</td>\n",
       "      <td>...</td>\n",
       "      <td>...</td>\n",
       "      <td>...</td>\n",
       "    </tr>\n",
       "    <tr>\n",
       "      <th>568424</th>\n",
       "      <td>I've tried several violet flavored candies in ...</td>\n",
       "      <td>5</td>\n",
       "      <td>0.3699</td>\n",
       "      <td>0.171</td>\n",
       "      <td>0.104</td>\n",
       "    </tr>\n",
       "    <tr>\n",
       "      <th>568425</th>\n",
       "      <td>This candy has a very good flavor. It is quite...</td>\n",
       "      <td>5</td>\n",
       "      <td>0.4927</td>\n",
       "      <td>0.071</td>\n",
       "      <td>0.000</td>\n",
       "    </tr>\n",
       "    <tr>\n",
       "      <th>568426</th>\n",
       "      <td>The candy is tasty, but they totally scam you ...</td>\n",
       "      <td>1</td>\n",
       "      <td>-0.8615</td>\n",
       "      <td>0.000</td>\n",
       "      <td>0.163</td>\n",
       "    </tr>\n",
       "    <tr>\n",
       "      <th>568427</th>\n",
       "      <td>I had been looking for the violet candy with t...</td>\n",
       "      <td>5</td>\n",
       "      <td>0.8718</td>\n",
       "      <td>0.301</td>\n",
       "      <td>0.000</td>\n",
       "    </tr>\n",
       "    <tr>\n",
       "      <th>568428</th>\n",
       "      <td>these are very pricey so i only enjoy them now...</td>\n",
       "      <td>5</td>\n",
       "      <td>0.9805</td>\n",
       "      <td>0.418</td>\n",
       "      <td>0.000</td>\n",
       "    </tr>\n",
       "    <tr>\n",
       "      <th>568429</th>\n",
       "      <td>These candies have a mild flavor, when compare...</td>\n",
       "      <td>5</td>\n",
       "      <td>0.8625</td>\n",
       "      <td>0.301</td>\n",
       "      <td>0.000</td>\n",
       "    </tr>\n",
       "    <tr>\n",
       "      <th>568430</th>\n",
       "      <td>This product is a bit pricey for the amt. rece...</td>\n",
       "      <td>5</td>\n",
       "      <td>-0.4588</td>\n",
       "      <td>0.000</td>\n",
       "      <td>0.103</td>\n",
       "    </tr>\n",
       "    <tr>\n",
       "      <th>568431</th>\n",
       "      <td>Definitely not worth buying flavored water wit...</td>\n",
       "      <td>1</td>\n",
       "      <td>0.1818</td>\n",
       "      <td>0.148</td>\n",
       "      <td>0.125</td>\n",
       "    </tr>\n",
       "    <tr>\n",
       "      <th>568432</th>\n",
       "      <td>I thought this soup would be more like a chill...</td>\n",
       "      <td>1</td>\n",
       "      <td>0.6953</td>\n",
       "      <td>0.148</td>\n",
       "      <td>0.000</td>\n",
       "    </tr>\n",
       "    <tr>\n",
       "      <th>568433</th>\n",
       "      <td>I just bought this soup today at my local groc...</td>\n",
       "      <td>1</td>\n",
       "      <td>0.7315</td>\n",
       "      <td>0.096</td>\n",
       "      <td>0.091</td>\n",
       "    </tr>\n",
       "    <tr>\n",
       "      <th>568434</th>\n",
       "      <td>This soup is mostly broth. Although it has a k...</td>\n",
       "      <td>2</td>\n",
       "      <td>-0.2311</td>\n",
       "      <td>0.144</td>\n",
       "      <td>0.175</td>\n",
       "    </tr>\n",
       "    <tr>\n",
       "      <th>568435</th>\n",
       "      <td>It is mostly broth, with the advertised 3/4 cu...</td>\n",
       "      <td>2</td>\n",
       "      <td>0.8569</td>\n",
       "      <td>0.174</td>\n",
       "      <td>0.042</td>\n",
       "    </tr>\n",
       "    <tr>\n",
       "      <th>568436</th>\n",
       "      <td>In the past, I would have to buy a large quant...</td>\n",
       "      <td>5</td>\n",
       "      <td>0.8271</td>\n",
       "      <td>0.244</td>\n",
       "      <td>0.000</td>\n",
       "    </tr>\n",
       "    <tr>\n",
       "      <th>568437</th>\n",
       "      <td>Ammonium bicarbonate in a nice little package....</td>\n",
       "      <td>5</td>\n",
       "      <td>0.7579</td>\n",
       "      <td>0.277</td>\n",
       "      <td>0.000</td>\n",
       "    </tr>\n",
       "    <tr>\n",
       "      <th>568438</th>\n",
       "      <td>If you haven't ever used Ammonium Bicarbonate ...</td>\n",
       "      <td>5</td>\n",
       "      <td>0.6297</td>\n",
       "      <td>0.086</td>\n",
       "      <td>0.000</td>\n",
       "    </tr>\n",
       "    <tr>\n",
       "      <th>568439</th>\n",
       "      <td>We need this for a recipe my wife is intereste...</td>\n",
       "      <td>4</td>\n",
       "      <td>0.4019</td>\n",
       "      <td>0.119</td>\n",
       "      <td>0.000</td>\n",
       "    </tr>\n",
       "    <tr>\n",
       "      <th>568440</th>\n",
       "      <td>Indie Candy's gummies are absolutely delicious...</td>\n",
       "      <td>5</td>\n",
       "      <td>0.9879</td>\n",
       "      <td>0.233</td>\n",
       "      <td>0.028</td>\n",
       "    </tr>\n",
       "    <tr>\n",
       "      <th>568441</th>\n",
       "      <td>Quick and easy! Had similar Gulasch in Guest H...</td>\n",
       "      <td>5</td>\n",
       "      <td>0.8619</td>\n",
       "      <td>0.255</td>\n",
       "      <td>0.000</td>\n",
       "    </tr>\n",
       "    <tr>\n",
       "      <th>568442</th>\n",
       "      <td>This product is great.  Gives you so much ener...</td>\n",
       "      <td>5</td>\n",
       "      <td>0.9206</td>\n",
       "      <td>0.363</td>\n",
       "      <td>0.000</td>\n",
       "    </tr>\n",
       "    <tr>\n",
       "      <th>568443</th>\n",
       "      <td>I love this tea.  I first discovered the pleas...</td>\n",
       "      <td>5</td>\n",
       "      <td>0.8591</td>\n",
       "      <td>0.107</td>\n",
       "      <td>0.038</td>\n",
       "    </tr>\n",
       "    <tr>\n",
       "      <th>568444</th>\n",
       "      <td>As a foodie, I use a lot of Chinese 5 Spice po...</td>\n",
       "      <td>5</td>\n",
       "      <td>0.6892</td>\n",
       "      <td>0.143</td>\n",
       "      <td>0.000</td>\n",
       "    </tr>\n",
       "    <tr>\n",
       "      <th>568445</th>\n",
       "      <td>You can make this mix yourself, but the Star A...</td>\n",
       "      <td>5</td>\n",
       "      <td>0.5251</td>\n",
       "      <td>0.115</td>\n",
       "      <td>0.056</td>\n",
       "    </tr>\n",
       "    <tr>\n",
       "      <th>568446</th>\n",
       "      <td>I had ordered some of these a few months back ...</td>\n",
       "      <td>2</td>\n",
       "      <td>0.1655</td>\n",
       "      <td>0.104</td>\n",
       "      <td>0.074</td>\n",
       "    </tr>\n",
       "    <tr>\n",
       "      <th>568447</th>\n",
       "      <td>Hoping there is no MSG in this, this tastes ex...</td>\n",
       "      <td>5</td>\n",
       "      <td>0.9020</td>\n",
       "      <td>0.124</td>\n",
       "      <td>0.031</td>\n",
       "    </tr>\n",
       "    <tr>\n",
       "      <th>568448</th>\n",
       "      <td>My only complaint is that there's so much of i...</td>\n",
       "      <td>5</td>\n",
       "      <td>-0.0675</td>\n",
       "      <td>0.103</td>\n",
       "      <td>0.148</td>\n",
       "    </tr>\n",
       "    <tr>\n",
       "      <th>568449</th>\n",
       "      <td>Great for sesame chicken..this is a good if no...</td>\n",
       "      <td>5</td>\n",
       "      <td>0.8589</td>\n",
       "      <td>0.327</td>\n",
       "      <td>0.072</td>\n",
       "    </tr>\n",
       "    <tr>\n",
       "      <th>568450</th>\n",
       "      <td>I'm disappointed with the flavor. The chocolat...</td>\n",
       "      <td>2</td>\n",
       "      <td>-0.4848</td>\n",
       "      <td>0.114</td>\n",
       "      <td>0.190</td>\n",
       "    </tr>\n",
       "    <tr>\n",
       "      <th>568451</th>\n",
       "      <td>These stars are small, so you can give 10-15 o...</td>\n",
       "      <td>5</td>\n",
       "      <td>0.4352</td>\n",
       "      <td>0.078</td>\n",
       "      <td>0.037</td>\n",
       "    </tr>\n",
       "    <tr>\n",
       "      <th>568452</th>\n",
       "      <td>These are the BEST treats for training and rew...</td>\n",
       "      <td>5</td>\n",
       "      <td>0.9717</td>\n",
       "      <td>0.452</td>\n",
       "      <td>0.041</td>\n",
       "    </tr>\n",
       "    <tr>\n",
       "      <th>568453</th>\n",
       "      <td>I am very satisfied ,product is as advertised,...</td>\n",
       "      <td>5</td>\n",
       "      <td>0.4754</td>\n",
       "      <td>0.154</td>\n",
       "      <td>0.000</td>\n",
       "    </tr>\n",
       "  </tbody>\n",
       "</table>\n",
       "<p>568454 rows × 5 columns</p>\n",
       "</div>"
      ],
      "text/plain": [
       "                                                     Text  Score  \\\n",
       "0       I have bought several of the Vitality canned d...      5   \n",
       "1       Product arrived labeled as Jumbo Salted Peanut...      1   \n",
       "2       This is a confection that has been around a fe...      4   \n",
       "3       If you are looking for the secret ingredient i...      2   \n",
       "4       Great taffy at a great price.  There was a wid...      5   \n",
       "5       I got a wild hair for taffy and ordered this f...      4   \n",
       "6       This saltwater taffy had great flavors and was...      5   \n",
       "7       This taffy is so good.  It is very soft and ch...      5   \n",
       "8       Right now I'm mostly just sprouting this so my...      5   \n",
       "9       This is a very healthy dog food. Good for thei...      5   \n",
       "10      I don't know if it's the cactus or the tequila...      5   \n",
       "11      One of my boys needed to lose some weight and ...      5   \n",
       "12      My cats have been happily eating Felidae Plati...      1   \n",
       "13      good flavor! these came securely packed... the...      4   \n",
       "14      The Strawberry Twizzlers are my guilty pleasur...      5   \n",
       "15      My daughter loves twizzlers and this shipment ...      5   \n",
       "16      I love eating them and they are good for watch...      2   \n",
       "17      I am very satisfied with my Twizzler purchase....      5   \n",
       "18      Twizzlers, Strawberry my childhood favorite ca...      5   \n",
       "19      Candy was delivered very fast and was purchase...      5   \n",
       "20      My husband is a Twizzlers addict.  We've bough...      5   \n",
       "21      I bought these for my husband who is currently...      5   \n",
       "22      I can remember buying this candy as a kid and ...      5   \n",
       "23      I love this candy.  After weight watchers I ha...      5   \n",
       "24      I have lived out of the US for over 7 yrs now,...      5   \n",
       "25      Product received is as advertised.<br /><br />...      5   \n",
       "26      The candy is just red , No flavor . Just  plan...      1   \n",
       "27      I was so glad Amazon carried these batteries. ...      4   \n",
       "28      I got this for my Mum who is not diabetic but ...      5   \n",
       "29      I don't know if it's the cactus or the tequila...      5   \n",
       "...                                                   ...    ...   \n",
       "568424  I've tried several violet flavored candies in ...      5   \n",
       "568425  This candy has a very good flavor. It is quite...      5   \n",
       "568426  The candy is tasty, but they totally scam you ...      1   \n",
       "568427  I had been looking for the violet candy with t...      5   \n",
       "568428  these are very pricey so i only enjoy them now...      5   \n",
       "568429  These candies have a mild flavor, when compare...      5   \n",
       "568430  This product is a bit pricey for the amt. rece...      5   \n",
       "568431  Definitely not worth buying flavored water wit...      1   \n",
       "568432  I thought this soup would be more like a chill...      1   \n",
       "568433  I just bought this soup today at my local groc...      1   \n",
       "568434  This soup is mostly broth. Although it has a k...      2   \n",
       "568435  It is mostly broth, with the advertised 3/4 cu...      2   \n",
       "568436  In the past, I would have to buy a large quant...      5   \n",
       "568437  Ammonium bicarbonate in a nice little package....      5   \n",
       "568438  If you haven't ever used Ammonium Bicarbonate ...      5   \n",
       "568439  We need this for a recipe my wife is intereste...      4   \n",
       "568440  Indie Candy's gummies are absolutely delicious...      5   \n",
       "568441  Quick and easy! Had similar Gulasch in Guest H...      5   \n",
       "568442  This product is great.  Gives you so much ener...      5   \n",
       "568443  I love this tea.  I first discovered the pleas...      5   \n",
       "568444  As a foodie, I use a lot of Chinese 5 Spice po...      5   \n",
       "568445  You can make this mix yourself, but the Star A...      5   \n",
       "568446  I had ordered some of these a few months back ...      2   \n",
       "568447  Hoping there is no MSG in this, this tastes ex...      5   \n",
       "568448  My only complaint is that there's so much of i...      5   \n",
       "568449  Great for sesame chicken..this is a good if no...      5   \n",
       "568450  I'm disappointed with the flavor. The chocolat...      2   \n",
       "568451  These stars are small, so you can give 10-15 o...      5   \n",
       "568452  These are the BEST treats for training and rew...      5   \n",
       "568453  I am very satisfied ,product is as advertised,...      5   \n",
       "\n",
       "        compound_score  positive_score  negative_score  \n",
       "0               0.9441           0.305           0.000  \n",
       "1              -0.5664           0.000           0.138  \n",
       "2               0.8265           0.155           0.091  \n",
       "3               0.0000           0.000           0.000  \n",
       "4               0.9468           0.448           0.000  \n",
       "5               0.8830           0.163           0.029  \n",
       "6               0.9346           0.273           0.034  \n",
       "7               0.9487           0.480           0.000  \n",
       "8               0.6369           0.149           0.000  \n",
       "9               0.8313           0.295           0.000  \n",
       "10              0.9746           0.137           0.017  \n",
       "11             -0.7579           0.000           0.113  \n",
       "12              0.2960           0.046           0.031  \n",
       "13              0.9466           0.645           0.000  \n",
       "14              0.6486           0.264           0.104  \n",
       "15              0.5719           0.139           0.000  \n",
       "16              0.7481           0.209           0.097  \n",
       "17              0.8883           0.390           0.000  \n",
       "18              0.8957           0.103           0.012  \n",
       "19              0.6077           0.137           0.000  \n",
       "20              0.6249           0.135           0.000  \n",
       "21              0.9153           0.261           0.000  \n",
       "22              0.7687           0.232           0.000  \n",
       "23              0.2617           0.143           0.085  \n",
       "24              0.3939           0.068           0.038  \n",
       "25              0.0000           0.000           0.000  \n",
       "26             -0.2960           0.000           0.128  \n",
       "27              0.5956           0.152           0.040  \n",
       "28              0.9913           0.309           0.022  \n",
       "29              0.9746           0.137           0.017  \n",
       "...                ...             ...             ...  \n",
       "568424          0.3699           0.171           0.104  \n",
       "568425          0.4927           0.071           0.000  \n",
       "568426         -0.8615           0.000           0.163  \n",
       "568427          0.8718           0.301           0.000  \n",
       "568428          0.9805           0.418           0.000  \n",
       "568429          0.8625           0.301           0.000  \n",
       "568430         -0.4588           0.000           0.103  \n",
       "568431          0.1818           0.148           0.125  \n",
       "568432          0.6953           0.148           0.000  \n",
       "568433          0.7315           0.096           0.091  \n",
       "568434         -0.2311           0.144           0.175  \n",
       "568435          0.8569           0.174           0.042  \n",
       "568436          0.8271           0.244           0.000  \n",
       "568437          0.7579           0.277           0.000  \n",
       "568438          0.6297           0.086           0.000  \n",
       "568439          0.4019           0.119           0.000  \n",
       "568440          0.9879           0.233           0.028  \n",
       "568441          0.8619           0.255           0.000  \n",
       "568442          0.9206           0.363           0.000  \n",
       "568443          0.8591           0.107           0.038  \n",
       "568444          0.6892           0.143           0.000  \n",
       "568445          0.5251           0.115           0.056  \n",
       "568446          0.1655           0.104           0.074  \n",
       "568447          0.9020           0.124           0.031  \n",
       "568448         -0.0675           0.103           0.148  \n",
       "568449          0.8589           0.327           0.072  \n",
       "568450         -0.4848           0.114           0.190  \n",
       "568451          0.4352           0.078           0.037  \n",
       "568452          0.9717           0.452           0.041  \n",
       "568453          0.4754           0.154           0.000  \n",
       "\n",
       "[568454 rows x 5 columns]"
      ]
     },
     "execution_count": 5,
     "metadata": {},
     "output_type": "execute_result"
    }
   ],
   "source": [
    "df"
   ]
  },
  {
   "cell_type": "code",
   "execution_count": 6,
   "metadata": {},
   "outputs": [],
   "source": [
    "pd.set_option('display.max_columns', False)"
   ]
  },
  {
   "cell_type": "code",
   "execution_count": 7,
   "metadata": {},
   "outputs": [
    {
     "data": {
      "text/html": [
       "<div>\n",
       "<style scoped>\n",
       "    .dataframe tbody tr th:only-of-type {\n",
       "        vertical-align: middle;\n",
       "    }\n",
       "\n",
       "    .dataframe tbody tr th {\n",
       "        vertical-align: top;\n",
       "    }\n",
       "\n",
       "    .dataframe thead tr th {\n",
       "        text-align: left;\n",
       "    }\n",
       "\n",
       "    .dataframe thead tr:last-of-type th {\n",
       "        text-align: right;\n",
       "    }\n",
       "</style>\n",
       "<table border=\"1\" class=\"dataframe\">\n",
       "  <thead>\n",
       "    <tr>\n",
       "      <th></th>\n",
       "      <th colspan=\"8\" halign=\"left\">compound_score</th>\n",
       "      <th colspan=\"8\" halign=\"left\">negative_score</th>\n",
       "      <th colspan=\"8\" halign=\"left\">positive_score</th>\n",
       "    </tr>\n",
       "    <tr>\n",
       "      <th></th>\n",
       "      <th>count</th>\n",
       "      <th>mean</th>\n",
       "      <th>std</th>\n",
       "      <th>min</th>\n",
       "      <th>25%</th>\n",
       "      <th>50%</th>\n",
       "      <th>75%</th>\n",
       "      <th>max</th>\n",
       "      <th>count</th>\n",
       "      <th>mean</th>\n",
       "      <th>std</th>\n",
       "      <th>min</th>\n",
       "      <th>25%</th>\n",
       "      <th>50%</th>\n",
       "      <th>75%</th>\n",
       "      <th>max</th>\n",
       "      <th>count</th>\n",
       "      <th>mean</th>\n",
       "      <th>std</th>\n",
       "      <th>min</th>\n",
       "      <th>25%</th>\n",
       "      <th>50%</th>\n",
       "      <th>75%</th>\n",
       "      <th>max</th>\n",
       "    </tr>\n",
       "    <tr>\n",
       "      <th>Score</th>\n",
       "      <th></th>\n",
       "      <th></th>\n",
       "      <th></th>\n",
       "      <th></th>\n",
       "      <th></th>\n",
       "      <th></th>\n",
       "      <th></th>\n",
       "      <th></th>\n",
       "      <th></th>\n",
       "      <th></th>\n",
       "      <th></th>\n",
       "      <th></th>\n",
       "      <th></th>\n",
       "      <th></th>\n",
       "      <th></th>\n",
       "      <th></th>\n",
       "      <th></th>\n",
       "      <th></th>\n",
       "      <th></th>\n",
       "      <th></th>\n",
       "      <th></th>\n",
       "      <th></th>\n",
       "      <th></th>\n",
       "      <th></th>\n",
       "    </tr>\n",
       "  </thead>\n",
       "  <tbody>\n",
       "    <tr>\n",
       "      <th>1</th>\n",
       "      <td>52268.0</td>\n",
       "      <td>0.036345</td>\n",
       "      <td>0.641807</td>\n",
       "      <td>-0.9976</td>\n",
       "      <td>-0.583800</td>\n",
       "      <td>0.0108</td>\n",
       "      <td>0.65465</td>\n",
       "      <td>0.9998</td>\n",
       "      <td>52268.0</td>\n",
       "      <td>0.095859</td>\n",
       "      <td>0.073300</td>\n",
       "      <td>0.0</td>\n",
       "      <td>0.045</td>\n",
       "      <td>0.085</td>\n",
       "      <td>0.135</td>\n",
       "      <td>0.720</td>\n",
       "      <td>52268.0</td>\n",
       "      <td>0.096328</td>\n",
       "      <td>0.070346</td>\n",
       "      <td>0.0</td>\n",
       "      <td>0.047</td>\n",
       "      <td>0.090</td>\n",
       "      <td>0.137</td>\n",
       "      <td>0.593</td>\n",
       "    </tr>\n",
       "    <tr>\n",
       "      <th>2</th>\n",
       "      <td>29769.0</td>\n",
       "      <td>0.271401</td>\n",
       "      <td>0.607884</td>\n",
       "      <td>-0.9976</td>\n",
       "      <td>-0.255400</td>\n",
       "      <td>0.4404</td>\n",
       "      <td>0.83130</td>\n",
       "      <td>0.9995</td>\n",
       "      <td>29769.0</td>\n",
       "      <td>0.076040</td>\n",
       "      <td>0.062145</td>\n",
       "      <td>0.0</td>\n",
       "      <td>0.032</td>\n",
       "      <td>0.066</td>\n",
       "      <td>0.108</td>\n",
       "      <td>0.515</td>\n",
       "      <td>29769.0</td>\n",
       "      <td>0.115456</td>\n",
       "      <td>0.073738</td>\n",
       "      <td>0.0</td>\n",
       "      <td>0.066</td>\n",
       "      <td>0.109</td>\n",
       "      <td>0.158</td>\n",
       "      <td>0.516</td>\n",
       "    </tr>\n",
       "    <tr>\n",
       "      <th>3</th>\n",
       "      <td>42640.0</td>\n",
       "      <td>0.482640</td>\n",
       "      <td>0.528985</td>\n",
       "      <td>-0.9976</td>\n",
       "      <td>0.185950</td>\n",
       "      <td>0.7011</td>\n",
       "      <td>0.90570</td>\n",
       "      <td>0.9996</td>\n",
       "      <td>42640.0</td>\n",
       "      <td>0.055887</td>\n",
       "      <td>0.052348</td>\n",
       "      <td>0.0</td>\n",
       "      <td>0.012</td>\n",
       "      <td>0.048</td>\n",
       "      <td>0.083</td>\n",
       "      <td>0.448</td>\n",
       "      <td>42640.0</td>\n",
       "      <td>0.138400</td>\n",
       "      <td>0.080795</td>\n",
       "      <td>0.0</td>\n",
       "      <td>0.084</td>\n",
       "      <td>0.128</td>\n",
       "      <td>0.182</td>\n",
       "      <td>0.642</td>\n",
       "    </tr>\n",
       "    <tr>\n",
       "      <th>4</th>\n",
       "      <td>80655.0</td>\n",
       "      <td>0.704241</td>\n",
       "      <td>0.385240</td>\n",
       "      <td>-0.9959</td>\n",
       "      <td>0.636900</td>\n",
       "      <td>0.8607</td>\n",
       "      <td>0.94620</td>\n",
       "      <td>0.9999</td>\n",
       "      <td>80655.0</td>\n",
       "      <td>0.038361</td>\n",
       "      <td>0.043865</td>\n",
       "      <td>0.0</td>\n",
       "      <td>0.000</td>\n",
       "      <td>0.029</td>\n",
       "      <td>0.060</td>\n",
       "      <td>0.494</td>\n",
       "      <td>80655.0</td>\n",
       "      <td>0.185193</td>\n",
       "      <td>0.094958</td>\n",
       "      <td>0.0</td>\n",
       "      <td>0.119</td>\n",
       "      <td>0.172</td>\n",
       "      <td>0.238</td>\n",
       "      <td>0.684</td>\n",
       "    </tr>\n",
       "    <tr>\n",
       "      <th>5</th>\n",
       "      <td>363122.0</td>\n",
       "      <td>0.772515</td>\n",
       "      <td>0.316567</td>\n",
       "      <td>-0.9994</td>\n",
       "      <td>0.743125</td>\n",
       "      <td>0.8907</td>\n",
       "      <td>0.95110</td>\n",
       "      <td>0.9999</td>\n",
       "      <td>363122.0</td>\n",
       "      <td>0.031044</td>\n",
       "      <td>0.041635</td>\n",
       "      <td>0.0</td>\n",
       "      <td>0.000</td>\n",
       "      <td>0.015</td>\n",
       "      <td>0.051</td>\n",
       "      <td>0.939</td>\n",
       "      <td>363122.0</td>\n",
       "      <td>0.220358</td>\n",
       "      <td>0.104972</td>\n",
       "      <td>0.0</td>\n",
       "      <td>0.145</td>\n",
       "      <td>0.209</td>\n",
       "      <td>0.285</td>\n",
       "      <td>0.964</td>\n",
       "    </tr>\n",
       "  </tbody>\n",
       "</table>\n",
       "</div>"
      ],
      "text/plain": [
       "      compound_score                      ...   positive_score              \n",
       "               count      mean       std  ...              50%    75%    max\n",
       "Score                                     ...                               \n",
       "1            52268.0  0.036345  0.641807  ...            0.090  0.137  0.593\n",
       "2            29769.0  0.271401  0.607884  ...            0.109  0.158  0.516\n",
       "3            42640.0  0.482640  0.528985  ...            0.128  0.182  0.642\n",
       "4            80655.0  0.704241  0.385240  ...            0.172  0.238  0.684\n",
       "5           363122.0  0.772515  0.316567  ...            0.209  0.285  0.964\n",
       "\n",
       "[5 rows x 24 columns]"
      ]
     },
     "execution_count": 7,
     "metadata": {},
     "output_type": "execute_result"
    }
   ],
   "source": [
    "df.groupby('Score').describe()"
   ]
  },
  {
   "cell_type": "code",
   "execution_count": 1,
   "metadata": {},
   "outputs": [],
   "source": [
    "# counts, bin_edges = np.histogram(data, bins=5)\n",
    "# print(counts)"
   ]
  },
  {
   "cell_type": "code",
   "execution_count": 9,
   "metadata": {},
   "outputs": [],
   "source": [
    "VADER_score = df['compound_score']"
   ]
  },
  {
   "cell_type": "code",
   "execution_count": 10,
   "metadata": {},
   "outputs": [],
   "source": [
    "%matplotlib inline\n",
    "import numpy as np\n",
    "import matplotlib.pyplot as plt\n",
    "plt.style.use('seaborn-white')"
   ]
  },
  {
   "cell_type": "code",
   "execution_count": 11,
   "metadata": {},
   "outputs": [
    {
     "data": {
      "text/plain": [
       "(array([ 11285.,  13316.,  13456.,  13151.,  18215.,  13174.,  23832.,\n",
       "         41826.,  87703., 332496.]),\n",
       " array([-9.9940e-01, -7.9947e-01, -5.9954e-01, -3.9961e-01, -1.9968e-01,\n",
       "         2.5000e-04,  2.0018e-01,  4.0011e-01,  6.0004e-01,  7.9997e-01,\n",
       "         9.9990e-01]),\n",
       " <a list of 10 Patch objects>)"
      ]
     },
     "execution_count": 11,
     "metadata": {},
     "output_type": "execute_result"
    },
    {
     "data": {
      "image/png": "[encoded data removed]",
      "text/plain": [
       "<Figure size 432x288 with 1 Axes>"
      ]
     },
     "metadata": {
      "needs_background": "light"
     },
     "output_type": "display_data"
    }
   ],
   "source": [
    "plt.hist(VADER_score)"
   ]
  },
  {
   "cell_type": "code",
   "execution_count": 14,
   "metadata": {},
   "outputs": [
    {
     "data": {
      "image/png": "[encoded data removed]",
      "text/plain": [
       "<Figure size 432x288 with 1 Axes>"
      ]
     },
     "metadata": {
      "needs_background": "light"
     },
     "output_type": "display_data"
    }
   ],
   "source": [
    "x1 = df[df['Score']==1]['compound_score']\n",
    "x2 = df[df['Score']==2]['compound_score']\n",
    "x3 = df[df['Score']==3]['compound_score']\n",
    "x4 = df[df['Score']==4]['compound_score']\n",
    "x5 = df[df['Score']==5]['compound_score']\n",
    "\n",
    "\n",
    "kwargs = dict(histtype='step', alpha=1, density = True, bins=80)\n",
    "\n",
    "plt.hist(x1, **kwargs)\n",
    "plt.hist(x2, **kwargs)\n",
    "plt.hist(x3, **kwargs)\n",
    "plt.hist(x4, **kwargs)\n",
    "plt.hist(x5, **kwargs);"
   ]
  },
  {
   "cell_type": "code",
   "execution_count": 30,
   "metadata": {},
   "outputs": [
    {
     "data": {
      "text/plain": [
       "numpy.int64"
      ]
     },
     "execution_count": 30,
     "metadata": {},
     "output_type": "execute_result"
    }
   ],
   "source": [
    "type(df['Score'][5])"
   ]
  },
  {
   "cell_type": "code",
   "execution_count": 42,
   "metadata": {},
   "outputs": [
    {
     "data": {
      "image/png": "[encoded data removed]",
      "text/plain": [
       "<Figure size 432x288 with 1 Axes>"
      ]
     },
     "metadata": {},
     "output_type": "display_data"
    }
   ],
   "source": [
    "x1 = df[df['Score']==1]['compound_score']\n",
    "x2 = df[df['Score']==2]['compound_score']\n",
    "x3 = df[df['Score']==3]['compound_score']\n",
    "x4 = df[df['Score']==4]['compound_score']\n",
    "x5 = df[df['Score']==5]['compound_score']\n",
    "\n",
    "\n",
    "kwargs = dict(histtype='stepfilled', alpha=0.4, normed=True, bins=40)\n",
    "\n",
    "plt.hist(x1, **kwargs)\n",
    "plt.hist(x2, **kwargs)\n",
    "plt.hist(x3, **kwargs)\n",
    "plt.hist(x4, **kwargs)\n",
    "plt.hist(x5, **kwargs);"
   ]
  },
  {
   "cell_type": "code",
   "execution_count": 67,
   "metadata": {},
   "outputs": [
    {
     "name": "stdout",
     "output_type": "stream",
     "text": [
      "[  4664   6621   6763   6553   6819   6637   6123   7028   5835  12380\n",
      "   5116   8058  10888  12944  19284  22542  33992  53711 108401 224095]\n"
     ]
    }
   ],
   "source": [
    "counts, bin_edges = np.histogram(df['compound_score'], bins=20)\n",
    "print(counts)"
   ]
  },
  {
   "cell_type": "code",
   "execution_count": 57,
   "metadata": {
    "scrolled": true
   },
   "outputs": [
    {
     "data": {
      "image/png": "[encoded data removed]",
      "text/plain": [
       "<Figure size 432x288 with 1 Axes>"
      ]
     },
     "metadata": {},
     "output_type": "display_data"
    }
   ],
   "source": [
    "x1 = df[df['Score']==1]['compound_score']\n",
    "x2 = df[df['Score']==2]['compound_score']\n",
    "x3 = df[df['Score']==3]['compound_score']\n",
    "x4 = df[df['Score']==4]['compound_score']\n",
    "x5 = df[df['Score']==5]['compound_score']\n",
    "\n",
    "\n",
    "kwargs = dict(histtype='step', alpha=1, normed=True, bins=80)\n",
    "\n",
    "plt.hist(x1, **kwargs)\n",
    "plt.hist(x2, **kwargs)\n",
    "plt.hist(x3, **kwargs)\n",
    "plt.hist(x4, **kwargs)\n",
    "plt.hist(x5, **kwargs);"
   ]
  },
  {
   "cell_type": "code",
   "execution_count": 27,
   "metadata": {
    "scrolled": true
   },
   "outputs": [
    {
     "data": {
      "text/plain": [
       "(array([0.01043665, 0.02584312, 0.03926167, 0.03677675, 0.04820737,\n",
       "        0.04025564, 0.0531772 , 0.05566211, 0.0501953 , 0.04969832,\n",
       "        0.06112893, 0.05367418, 0.06013496, 0.06908066, 0.05566211,\n",
       "        0.07057161, 0.06311686, 0.08945697, 0.09641473, 0.06460781,\n",
       "        0.08051127, 0.07305652, 0.06709273, 0.09790568, 0.07504446,\n",
       "        0.08597809, 0.07951731, 0.07703239, 0.12325182, 0.10287551,\n",
       "        0.10138456, 0.07902032, 0.10188155, 0.07007463, 0.09045094,\n",
       "        0.07504446, 0.07802636, 0.07802636, 0.06411083, 0.47710383,\n",
       "        0.07703239, 0.14064623, 0.059141  , 0.10784535, 0.15008891,\n",
       "        0.13219752, 0.15008891, 0.20127818, 0.22364242, 0.22861225,\n",
       "        0.2037631 , 0.16301048, 0.18736265, 0.22662432, 0.27234677,\n",
       "        0.22066052, 0.33745157, 0.43784216, 0.30962051, 0.42641155,\n",
       "        0.33993648, 0.37522229, 0.47660685, 0.48356461, 0.59985867,\n",
       "        0.6639695 , 0.64011431, 0.85133215, 0.8056097 , 0.94377102,\n",
       "        1.10827245, 1.22804539, 1.45019686, 1.83585579, 2.09627497,\n",
       "        2.48690373, 3.0927262 , 3.76613839, 4.69152103, 4.721837  ]),\n",
       " array([-0.9959   , -0.9709525, -0.946005 , -0.9210575, -0.89611  ,\n",
       "        -0.8711625, -0.846215 , -0.8212675, -0.79632  , -0.7713725,\n",
       "        -0.746425 , -0.7214775, -0.69653  , -0.6715825, -0.646635 ,\n",
       "        -0.6216875, -0.59674  , -0.5717925, -0.546845 , -0.5218975,\n",
       "        -0.49695  , -0.4720025, -0.447055 , -0.4221075, -0.39716  ,\n",
       "        -0.3722125, -0.347265 , -0.3223175, -0.29737  , -0.2724225,\n",
       "        -0.247475 , -0.2225275, -0.19758  , -0.1726325, -0.147685 ,\n",
       "        -0.1227375, -0.09779  , -0.0728425, -0.047895 , -0.0229475,\n",
       "         0.002    ,  0.0269475,  0.051895 ,  0.0768425,  0.10179  ,\n",
       "         0.1267375,  0.151685 ,  0.1766325,  0.20158  ,  0.2265275,\n",
       "         0.251475 ,  0.2764225,  0.30137  ,  0.3263175,  0.351265 ,\n",
       "         0.3762125,  0.40116  ,  0.4261075,  0.451055 ,  0.4760025,\n",
       "         0.50095  ,  0.5258975,  0.550845 ,  0.5757925,  0.60074  ,\n",
       "         0.6256875,  0.650635 ,  0.6755825,  0.70053  ,  0.7254775,\n",
       "         0.750425 ,  0.7753725,  0.80032  ,  0.8252675,  0.850215 ,\n",
       "         0.8751625,  0.90011  ,  0.9250575,  0.950005 ,  0.9749525,\n",
       "         0.9999   ]),\n",
       " <a list of 1 Patch objects>)"
      ]
     },
     "execution_count": 27,
     "metadata": {},
     "output_type": "execute_result"
    },
    {
     "data": {
      "image/png": "[encoded data removed]",
      "text/plain": [
       "<Figure size 432x288 with 1 Axes>"
      ]
     },
     "metadata": {
      "needs_background": "light"
     },
     "output_type": "display_data"
    }
   ],
   "source": [
    "x1 = df[df['Score']==4]['compound_score']\n",
    "\n",
    "kwargs = dict(histtype='step', alpha=1, normed=True, bins=80)\n",
    "\n",
    "plt.hist(x1, **kwargs)\n"
   ]
  },
  {
   "cell_type": "code",
   "execution_count": 23,
   "metadata": {},
   "outputs": [
    {
     "data": {
      "image/png": "[encoded data removed]",
      "text/plain": [
       "<Figure size 432x288 with 1 Axes>"
      ]
     },
     "metadata": {
      "needs_background": "light"
     },
     "output_type": "display_data"
    }
   ],
   "source": [
    "x1 = df[df['Score']==1]['positive_score']\n",
    "x2 = df[df['Score']==2]['positive_score']\n",
    "x3 = df[df['Score']==3]['positive_score']\n",
    "x4 = df[df['Score']==4]['positive_score']\n",
    "x5 = df[df['Score']==5]['positive_score']\n",
    "\n",
    "\n",
    "kwargs = dict(histtype='step', alpha=1, normed=True, bins=80)\n",
    "\n",
    "plt.hist(x1, **kwargs)\n",
    "plt.hist(x2, **kwargs)\n",
    "plt.hist(x3, **kwargs)\n",
    "plt.hist(x4, **kwargs)\n",
    "plt.hist(x5, **kwargs);"
   ]
  },
  {
   "cell_type": "code",
   "execution_count": 16,
   "metadata": {},
   "outputs": [
    {
     "data": {
      "image/png": "[encoded data removed]",
      "text/plain": [
       "<Figure size 432x288 with 1 Axes>"
      ]
     },
     "metadata": {
      "needs_background": "light"
     },
     "output_type": "display_data"
    }
   ],
   "source": [
    "x1 = df[df['Score']==1]['negative_score']\n",
    "x2 = df[df['Score']==2]['negative_score']\n",
    "x3 = df[df['Score']==3]['negative_score']\n",
    "x4 = df[df['Score']==4]['negative_score']\n",
    "x5 = df[df['Score']==5]['negative_score']\n",
    "\n",
    "\n",
    "kwargs = dict(histtype='step', alpha=1, normed=True, bins=80)\n",
    "\n",
    "plt.hist(x1, **kwargs)\n",
    "plt.hist(x2, **kwargs)\n",
    "plt.hist(x3, **kwargs)\n",
    "plt.hist(x4, **kwargs)\n",
    "plt.hist(x5, **kwargs);"
   ]
  },
  {
   "cell_type": "code",
   "execution_count": 59,
   "metadata": {
    "scrolled": true
   },
   "outputs": [
    {
     "data": {
      "text/plain": [
       "Index(['Text', 'Score', 'compound_score', 'positive_score', 'negative_score'], dtype='object')"
      ]
     },
     "execution_count": 59,
     "metadata": {},
     "output_type": "execute_result"
    }
   ],
   "source": [
    "df.columns"
   ]
  },
  {
   "cell_type": "code",
   "execution_count": 81,
   "metadata": {},
   "outputs": [],
   "source": [
    "#del df['calculate_Star']"
   ]
  },
  {
   "cell_type": "code",
   "execution_count": null,
   "metadata": {},
   "outputs": [],
   "source": [
    "# positive sentiment: compound score >= 0.05\n",
    "# neutral sentiment: (compound score > -0.05) and (compound score < 0.05)\n",
    "# negative sentiment: compound score <= -0.05\n"
   ]
  },
  {
   "cell_type": "code",
   "execution_count": 79,
   "metadata": {},
   "outputs": [],
   "source": [
    "# Prediction \n",
    "\n",
    "def calculate_Star(row):\n",
    "    if row['compound_score']>=0.05:\n",
    "        if row['compound_score']>0.185:\n",
    "            return 5\n",
    "        else:\n",
    "            return 4\n",
    "    \n",
    "    elif (row['compound_score']> -0.05) and (row['compound_score']< 0.05):   \n",
    "        return 3\n",
    "\n",
    "    \n",
    "    elif row['compound_score']<= -0.05:\n",
    "        if row['negative_score']>0.108:\n",
    "            return 1\n",
    "        else:\n",
    "            return 2\n",
    "    \n",
    "df['calculate_Star'] = df.apply(calculate_Star,axis=1)\n"
   ]
  },
  {
   "cell_type": "code",
   "execution_count": 78,
   "metadata": {},
   "outputs": [
    {
     "data": {
      "text/html": [
       "<div>\n",
       "<style scoped>\n",
       "    .dataframe tbody tr th:only-of-type {\n",
       "        vertical-align: middle;\n",
       "    }\n",
       "\n",
       "    .dataframe tbody tr th {\n",
       "        vertical-align: top;\n",
       "    }\n",
       "\n",
       "    .dataframe thead tr th {\n",
       "        text-align: left;\n",
       "    }\n",
       "\n",
       "    .dataframe thead tr:last-of-type th {\n",
       "        text-align: right;\n",
       "    }\n",
       "</style>\n",
       "<table border=\"1\" class=\"dataframe\">\n",
       "  <thead>\n",
       "    <tr>\n",
       "      <th></th>\n",
       "      <th colspan=\"8\" halign=\"left\">calculate_Star</th>\n",
       "      <th colspan=\"8\" halign=\"left\">compound_score</th>\n",
       "      <th colspan=\"8\" halign=\"left\">negative_score</th>\n",
       "      <th colspan=\"8\" halign=\"left\">positive_score</th>\n",
       "    </tr>\n",
       "    <tr>\n",
       "      <th></th>\n",
       "      <th>count</th>\n",
       "      <th>mean</th>\n",
       "      <th>std</th>\n",
       "      <th>min</th>\n",
       "      <th>25%</th>\n",
       "      <th>50%</th>\n",
       "      <th>75%</th>\n",
       "      <th>max</th>\n",
       "      <th>count</th>\n",
       "      <th>mean</th>\n",
       "      <th>std</th>\n",
       "      <th>min</th>\n",
       "      <th>25%</th>\n",
       "      <th>50%</th>\n",
       "      <th>75%</th>\n",
       "      <th>max</th>\n",
       "      <th>count</th>\n",
       "      <th>mean</th>\n",
       "      <th>std</th>\n",
       "      <th>min</th>\n",
       "      <th>25%</th>\n",
       "      <th>50%</th>\n",
       "      <th>75%</th>\n",
       "      <th>max</th>\n",
       "      <th>count</th>\n",
       "      <th>mean</th>\n",
       "      <th>std</th>\n",
       "      <th>min</th>\n",
       "      <th>25%</th>\n",
       "      <th>50%</th>\n",
       "      <th>75%</th>\n",
       "      <th>max</th>\n",
       "    </tr>\n",
       "    <tr>\n",
       "      <th>Score</th>\n",
       "      <th></th>\n",
       "      <th></th>\n",
       "      <th></th>\n",
       "      <th></th>\n",
       "      <th></th>\n",
       "      <th></th>\n",
       "      <th></th>\n",
       "      <th></th>\n",
       "      <th></th>\n",
       "      <th></th>\n",
       "      <th></th>\n",
       "      <th></th>\n",
       "      <th></th>\n",
       "      <th></th>\n",
       "      <th></th>\n",
       "      <th></th>\n",
       "      <th></th>\n",
       "      <th></th>\n",
       "      <th></th>\n",
       "      <th></th>\n",
       "      <th></th>\n",
       "      <th></th>\n",
       "      <th></th>\n",
       "      <th></th>\n",
       "      <th></th>\n",
       "      <th></th>\n",
       "      <th></th>\n",
       "      <th></th>\n",
       "      <th></th>\n",
       "      <th></th>\n",
       "      <th></th>\n",
       "      <th></th>\n",
       "    </tr>\n",
       "  </thead>\n",
       "  <tbody>\n",
       "    <tr>\n",
       "      <th>1</th>\n",
       "      <td>52268.0</td>\n",
       "      <td>0.534993</td>\n",
       "      <td>0.498779</td>\n",
       "      <td>0.0</td>\n",
       "      <td>0.0</td>\n",
       "      <td>1.0</td>\n",
       "      <td>1.0</td>\n",
       "      <td>1.0</td>\n",
       "      <td>52268.0</td>\n",
       "      <td>0.036345</td>\n",
       "      <td>0.641807</td>\n",
       "      <td>-0.9976</td>\n",
       "      <td>-0.583800</td>\n",
       "      <td>0.0108</td>\n",
       "      <td>0.65465</td>\n",
       "      <td>0.9998</td>\n",
       "      <td>52268.0</td>\n",
       "      <td>0.095859</td>\n",
       "      <td>0.073300</td>\n",
       "      <td>0.0</td>\n",
       "      <td>0.045</td>\n",
       "      <td>0.085</td>\n",
       "      <td>0.135</td>\n",
       "      <td>0.720</td>\n",
       "      <td>52268.0</td>\n",
       "      <td>0.096328</td>\n",
       "      <td>0.070346</td>\n",
       "      <td>0.0</td>\n",
       "      <td>0.047</td>\n",
       "      <td>0.090</td>\n",
       "      <td>0.137</td>\n",
       "      <td>0.593</td>\n",
       "    </tr>\n",
       "    <tr>\n",
       "      <th>2</th>\n",
       "      <td>29769.0</td>\n",
       "      <td>0.681078</td>\n",
       "      <td>0.466067</td>\n",
       "      <td>0.0</td>\n",
       "      <td>0.0</td>\n",
       "      <td>1.0</td>\n",
       "      <td>1.0</td>\n",
       "      <td>1.0</td>\n",
       "      <td>29769.0</td>\n",
       "      <td>0.271401</td>\n",
       "      <td>0.607884</td>\n",
       "      <td>-0.9976</td>\n",
       "      <td>-0.255400</td>\n",
       "      <td>0.4404</td>\n",
       "      <td>0.83130</td>\n",
       "      <td>0.9995</td>\n",
       "      <td>29769.0</td>\n",
       "      <td>0.076040</td>\n",
       "      <td>0.062145</td>\n",
       "      <td>0.0</td>\n",
       "      <td>0.032</td>\n",
       "      <td>0.066</td>\n",
       "      <td>0.108</td>\n",
       "      <td>0.515</td>\n",
       "      <td>29769.0</td>\n",
       "      <td>0.115456</td>\n",
       "      <td>0.073738</td>\n",
       "      <td>0.0</td>\n",
       "      <td>0.066</td>\n",
       "      <td>0.109</td>\n",
       "      <td>0.158</td>\n",
       "      <td>0.516</td>\n",
       "    </tr>\n",
       "    <tr>\n",
       "      <th>3</th>\n",
       "      <td>42640.0</td>\n",
       "      <td>0.812008</td>\n",
       "      <td>0.390711</td>\n",
       "      <td>0.0</td>\n",
       "      <td>1.0</td>\n",
       "      <td>1.0</td>\n",
       "      <td>1.0</td>\n",
       "      <td>1.0</td>\n",
       "      <td>42640.0</td>\n",
       "      <td>0.482640</td>\n",
       "      <td>0.528985</td>\n",
       "      <td>-0.9976</td>\n",
       "      <td>0.185950</td>\n",
       "      <td>0.7011</td>\n",
       "      <td>0.90570</td>\n",
       "      <td>0.9996</td>\n",
       "      <td>42640.0</td>\n",
       "      <td>0.055887</td>\n",
       "      <td>0.052348</td>\n",
       "      <td>0.0</td>\n",
       "      <td>0.012</td>\n",
       "      <td>0.048</td>\n",
       "      <td>0.083</td>\n",
       "      <td>0.448</td>\n",
       "      <td>42640.0</td>\n",
       "      <td>0.138400</td>\n",
       "      <td>0.080795</td>\n",
       "      <td>0.0</td>\n",
       "      <td>0.084</td>\n",
       "      <td>0.128</td>\n",
       "      <td>0.182</td>\n",
       "      <td>0.642</td>\n",
       "    </tr>\n",
       "    <tr>\n",
       "      <th>4</th>\n",
       "      <td>80655.0</td>\n",
       "      <td>0.931474</td>\n",
       "      <td>0.252649</td>\n",
       "      <td>0.0</td>\n",
       "      <td>1.0</td>\n",
       "      <td>1.0</td>\n",
       "      <td>1.0</td>\n",
       "      <td>1.0</td>\n",
       "      <td>80655.0</td>\n",
       "      <td>0.704241</td>\n",
       "      <td>0.385240</td>\n",
       "      <td>-0.9959</td>\n",
       "      <td>0.636900</td>\n",
       "      <td>0.8607</td>\n",
       "      <td>0.94620</td>\n",
       "      <td>0.9999</td>\n",
       "      <td>80655.0</td>\n",
       "      <td>0.038361</td>\n",
       "      <td>0.043865</td>\n",
       "      <td>0.0</td>\n",
       "      <td>0.000</td>\n",
       "      <td>0.029</td>\n",
       "      <td>0.060</td>\n",
       "      <td>0.494</td>\n",
       "      <td>80655.0</td>\n",
       "      <td>0.185193</td>\n",
       "      <td>0.094958</td>\n",
       "      <td>0.0</td>\n",
       "      <td>0.119</td>\n",
       "      <td>0.172</td>\n",
       "      <td>0.238</td>\n",
       "      <td>0.684</td>\n",
       "    </tr>\n",
       "    <tr>\n",
       "      <th>5</th>\n",
       "      <td>363122.0</td>\n",
       "      <td>0.961162</td>\n",
       "      <td>0.193209</td>\n",
       "      <td>0.0</td>\n",
       "      <td>1.0</td>\n",
       "      <td>1.0</td>\n",
       "      <td>1.0</td>\n",
       "      <td>1.0</td>\n",
       "      <td>363122.0</td>\n",
       "      <td>0.772515</td>\n",
       "      <td>0.316567</td>\n",
       "      <td>-0.9994</td>\n",
       "      <td>0.743125</td>\n",
       "      <td>0.8907</td>\n",
       "      <td>0.95110</td>\n",
       "      <td>0.9999</td>\n",
       "      <td>363122.0</td>\n",
       "      <td>0.031044</td>\n",
       "      <td>0.041635</td>\n",
       "      <td>0.0</td>\n",
       "      <td>0.000</td>\n",
       "      <td>0.015</td>\n",
       "      <td>0.051</td>\n",
       "      <td>0.939</td>\n",
       "      <td>363122.0</td>\n",
       "      <td>0.220358</td>\n",
       "      <td>0.104972</td>\n",
       "      <td>0.0</td>\n",
       "      <td>0.145</td>\n",
       "      <td>0.209</td>\n",
       "      <td>0.285</td>\n",
       "      <td>0.964</td>\n",
       "    </tr>\n",
       "  </tbody>\n",
       "</table>\n",
       "</div>"
      ],
      "text/plain": [
       "      calculate_Star                           ...   positive_score                     \n",
       "               count      mean       std  min  ...              25%    50%    75%    max\n",
       "Score                                          ...                                      \n",
       "1            52268.0  0.534993  0.498779  0.0  ...            0.047  0.090  0.137  0.593\n",
       "2            29769.0  0.681078  0.466067  0.0  ...            0.066  0.109  0.158  0.516\n",
       "3            42640.0  0.812008  0.390711  0.0  ...            0.084  0.128  0.182  0.642\n",
       "4            80655.0  0.931474  0.252649  0.0  ...            0.119  0.172  0.238  0.684\n",
       "5           363122.0  0.961162  0.193209  0.0  ...            0.145  0.209  0.285  0.964\n",
       "\n",
       "[5 rows x 32 columns]"
      ]
     },
     "execution_count": 78,
     "metadata": {},
     "output_type": "execute_result"
    }
   ],
   "source": [
    "df.groupby('Score').describe()"
   ]
  },
  {
   "cell_type": "code",
   "execution_count": null,
   "metadata": {},
   "outputs": [],
   "source": []
  },
  {
   "cell_type": "markdown",
   "metadata": {},
   "source": [
    "# Show Prediction Accuracy"
   ]
  },
  {
   "cell_type": "code",
   "execution_count": 83,
   "metadata": {},
   "outputs": [],
   "source": [
    "# demonstration of calculating metrics for a neural network model using sklearn\n",
    "from sklearn.datasets import make_circles\n",
    "from sklearn.metrics import accuracy_score\n",
    "from sklearn.metrics import precision_score\n",
    "from sklearn.metrics import recall_score\n",
    "from sklearn.metrics import f1_score\n",
    "from sklearn.metrics import cohen_kappa_score\n",
    "from sklearn.metrics import roc_auc_score\n",
    "from sklearn.metrics import confusion_matrix"
   ]
  },
  {
   "cell_type": "code",
   "execution_count": 84,
   "metadata": {},
   "outputs": [],
   "source": [
    "# def decode(datum):\n",
    "#     return np.argmax(datum)"
   ]
  },
  {
   "cell_type": "code",
   "execution_count": 85,
   "metadata": {},
   "outputs": [],
   "source": [
    "# for i in range(Y_test.shape[0]):\n",
    "#     datum = Y_test[i]\n",
    "#     print('index: %d' % i)\n",
    "#     print('encoded datum: %s' % datum)\n",
    "#     decoded_datum = decode(Y_test[i])\n",
    "#     print('decoded datum: %s' % decoded_datum)\n",
    "#     print()"
   ]
  },
  {
   "cell_type": "code",
   "execution_count": 86,
   "metadata": {},
   "outputs": [],
   "source": [
    "# Y_test = np.array([decode(i) for i in Y_test])"
   ]
  },
  {
   "cell_type": "code",
   "execution_count": 87,
   "metadata": {},
   "outputs": [],
   "source": [
    "# yhat_probs = model.predict(X_test, verbose=0)\n",
    "# # predict crisp classes for test set\n",
    "# yhat_classes = model.predict_classes(X_test, verbose=0)"
   ]
  },
  {
   "cell_type": "code",
   "execution_count": 173,
   "metadata": {},
   "outputs": [
    {
     "data": {
      "text/plain": [
       "array([ 4,  6,  2, ...,  3, 10,  4])"
      ]
     },
     "execution_count": 173,
     "metadata": {},
     "output_type": "execute_result"
    }
   ],
   "source": [
    "yhat_classes"
   ]
  },
  {
   "cell_type": "code",
   "execution_count": null,
   "metadata": {},
   "outputs": [],
   "source": []
  },
  {
   "cell_type": "code",
   "execution_count": 90,
   "metadata": {},
   "outputs": [
    {
     "data": {
      "text/plain": [
       "array([5, 1, 4, 2, 3])"
      ]
     },
     "execution_count": 90,
     "metadata": {},
     "output_type": "execute_result"
    }
   ],
   "source": [
    "Y_test.unique()"
   ]
  },
  {
   "cell_type": "code",
   "execution_count": 91,
   "metadata": {},
   "outputs": [
    {
     "data": {
      "text/plain": [
       "array([5, 1, 3, 2, 4])"
      ]
     },
     "execution_count": 91,
     "metadata": {},
     "output_type": "execute_result"
    }
   ],
   "source": [
    "yhat_classes.unique()"
   ]
  },
  {
   "cell_type": "code",
   "execution_count": 88,
   "metadata": {},
   "outputs": [],
   "source": [
    "Y_test = df['Score']"
   ]
  },
  {
   "cell_type": "code",
   "execution_count": 89,
   "metadata": {},
   "outputs": [],
   "source": [
    "yhat_classes = df['calculate_Star']"
   ]
  },
  {
   "cell_type": "code",
   "execution_count": null,
   "metadata": {},
   "outputs": [],
   "source": []
  },
  {
   "cell_type": "code",
   "execution_count": null,
   "metadata": {},
   "outputs": [],
   "source": []
  },
  {
   "cell_type": "code",
   "execution_count": 92,
   "metadata": {},
   "outputs": [
    {
     "name": "stdout",
     "output_type": "stream",
     "text": [
      "Accuracy: 0.639709\n"
     ]
    }
   ],
   "source": [
    "# accuracy: (tp + tn) / (p + n)\n",
    "accuracy = accuracy_score(Y_test, yhat_classes)\n",
    "print('Accuracy: %f' % accuracy)"
   ]
  },
  {
   "cell_type": "code",
   "execution_count": 93,
   "metadata": {},
   "outputs": [
    {
     "data": {
      "text/plain": [
       "0.27833943791139115"
      ]
     },
     "execution_count": 93,
     "metadata": {},
     "output_type": "execute_result"
    }
   ],
   "source": [
    "f1_score(Y_test, yhat_classes, average='macro') "
   ]
  },
  {
   "cell_type": "code",
   "execution_count": 94,
   "metadata": {},
   "outputs": [
    {
     "data": {
      "text/plain": [
       "0.6397087539185229"
      ]
     },
     "execution_count": 94,
     "metadata": {},
     "output_type": "execute_result"
    }
   ],
   "source": [
    "f1_score(Y_test, yhat_classes, average='micro') "
   ]
  },
  {
   "cell_type": "code",
   "execution_count": 95,
   "metadata": {},
   "outputs": [
    {
     "data": {
      "text/plain": [
       "array([0.36347303, 0.13550974, 0.05765088, 0.03316343, 0.80190011])"
      ]
     },
     "execution_count": 95,
     "metadata": {},
     "output_type": "execute_result"
    }
   ],
   "source": [
    "f1_score(Y_test, yhat_classes, average=None) "
   ]
  },
  {
   "cell_type": "code",
   "execution_count": 96,
   "metadata": {},
   "outputs": [
    {
     "data": {
      "text/plain": [
       "0.5617914548687525"
      ]
     },
     "execution_count": 96,
     "metadata": {},
     "output_type": "execute_result"
    }
   ],
   "source": [
    "f1_score(Y_test, yhat_classes, average='weighted') "
   ]
  },
  {
   "cell_type": "code",
   "execution_count": 97,
   "metadata": {},
   "outputs": [
    {
     "name": "stdout",
     "output_type": "stream",
     "text": [
      "Frequency of unique values of the said array:\n",
      "[[     1      2      3      4      5]\n",
      " [ 52268  29769  42640  80655 363122]]\n"
     ]
    }
   ],
   "source": [
    "unique_elements, counts_elements = np.unique(Y_test, return_counts=True)\n",
    "print(\"Frequency of unique values of the said array:\")\n",
    "print(np.asarray((unique_elements, counts_elements)))"
   ]
  },
  {
   "cell_type": "code",
   "execution_count": 98,
   "metadata": {
    "scrolled": true
   },
   "outputs": [
    {
     "name": "stdout",
     "output_type": "stream",
     "text": [
      "Frequency of unique values of the said array:\n",
      "[[     1      2      3      4      5]\n",
      " [ 36784  22611  12138   9987 486934]]\n"
     ]
    }
   ],
   "source": [
    "unique_elements, counts_elements = np.unique(yhat_classes, return_counts=True)\n",
    "print(\"Frequency of unique values of the said array:\")\n",
    "print(np.asarray((unique_elements, counts_elements)))"
   ]
  },
  {
   "cell_type": "code",
   "execution_count": 99,
   "metadata": {},
   "outputs": [
    {
     "name": "stdout",
     "output_type": "stream",
     "text": [
      "[[ 16184   7622   2703   2037  23722]\n",
      " [  5637   3549   1392   1238  17953]\n",
      " [  4235   3411   1579   1426  31989]\n",
      " [  2920   2369   1423   1503  72440]\n",
      " [  7808   5660   5041   3783 340830]]\n"
     ]
    }
   ],
   "source": [
    "# confusion matrix\n",
    "matrix = confusion_matrix(Y_test, yhat_classes)\n",
    "print(matrix)"
   ]
  },
  {
   "cell_type": "code",
   "execution_count": null,
   "metadata": {},
   "outputs": [],
   "source": [
    "from vaderSentiment.vaderSentiment import SentimentIntensityAnalyzer\n",
    "import pandas as pd\n",
    "\n",
    "df = pd.read_csv(\"Reviews_2.csv\")\n",
    "df = df[['Text','Score']]\n",
    "\n",
    "\n",
    "analyzer = SentimentIntensityAnalyzer()\n",
    "vs = analyzer.polarity_scores(\"VADER Sentiment looks interesting, I have high hopes!\")\n",
    "print(vs)\n",
    "\n",
    "print(df.head())\n",
    "\n",
    "print(vs['compound'])\n",
    "print(vs['pos'])\n",
    "print(vs['neg'])\n",
    "\n",
    "\n",
    "df['compound_score'] = None\n",
    "df['positive_score'] = None\n",
    "df['negative_score'] = None\n",
    "\n",
    "for i in range(0,len(df)):\n",
    "    vs = analyzer.polarity_scores(df['Text'][i])\n",
    "\n",
    "    # Set the classification logic here !!!\n",
    "    ## Do something to maximize the accuracy\n",
    "\n",
    "    df['compound_score'][i] = vs['compound']\n",
    "    df['positive_score'][i] = vs['pos']\n",
    "    df['negative_score'][i] = vs['neg']\n",
    "\n",
    "\n",
    "\n",
    "df.to_csv(\"Amazon_raw_predicted_by_VADER.csv\")"
   ]
  }
 ],
 "metadata": {
  "kernelspec": {
   "display_name": "Python 3",
   "language": "python",
   "name": "python3"
  },
  "language_info": {
   "codemirror_mode": {
    "name": "ipython",
    "version": 3
   },
   "file_extension": ".py",
   "mimetype": "text/x-python",
   "name": "python",
   "nbconvert_exporter": "python",
   "pygments_lexer": "ipython3",
   "version": "3.6.5"
  }
 },
 "nbformat": 4,
 "nbformat_minor": 2
}
